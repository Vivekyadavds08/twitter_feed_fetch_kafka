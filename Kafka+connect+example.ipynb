{
 "cells": [
  {
   "cell_type": "code",
   "execution_count": 4,
   "metadata": {},
   "outputs": [
    {
     "name": "stdout",
     "output_type": "stream",
     "text": [
      "Requirement already satisfied: kafka-python in /Users/vivekyadav/Applications/anaconda3/lib/python3.9/site-packages (2.0.2)\n",
      "Note: you may need to restart the kernel to use updated packages.\n"
     ]
    }
   ],
   "source": [
    "pip install kafka-python"
   ]
  },
  {
   "cell_type": "code",
   "execution_count": 5,
   "metadata": {},
   "outputs": [
    {
     "name": "stdout",
     "output_type": "stream",
     "text": [
      "Requirement already satisfied: python-twitter in /Users/vivekyadav/Applications/anaconda3/lib/python3.9/site-packages (3.5)\n",
      "Requirement already satisfied: future in /Users/vivekyadav/Applications/anaconda3/lib/python3.9/site-packages (from python-twitter) (0.18.2)\n",
      "Requirement already satisfied: requests in /Users/vivekyadav/Applications/anaconda3/lib/python3.9/site-packages (from python-twitter) (2.27.1)\n",
      "Requirement already satisfied: requests-oauthlib in /Users/vivekyadav/Applications/anaconda3/lib/python3.9/site-packages (from python-twitter) (1.3.1)\n",
      "Requirement already satisfied: charset-normalizer~=2.0.0 in /Users/vivekyadav/Applications/anaconda3/lib/python3.9/site-packages (from requests->python-twitter) (2.0.4)\n",
      "Requirement already satisfied: urllib3<1.27,>=1.21.1 in /Users/vivekyadav/Applications/anaconda3/lib/python3.9/site-packages (from requests->python-twitter) (1.26.9)\n",
      "Requirement already satisfied: idna<4,>=2.5 in /Users/vivekyadav/Applications/anaconda3/lib/python3.9/site-packages (from requests->python-twitter) (3.3)\n",
      "Requirement already satisfied: certifi>=2017.4.17 in /Users/vivekyadav/Applications/anaconda3/lib/python3.9/site-packages (from requests->python-twitter) (2021.10.8)\n",
      "Requirement already satisfied: oauthlib>=3.0.0 in /Users/vivekyadav/Applications/anaconda3/lib/python3.9/site-packages (from requests-oauthlib->python-twitter) (3.2.1)\n",
      "Note: you may need to restart the kernel to use updated packages.\n"
     ]
    }
   ],
   "source": [
    "pip install python-twitter"
   ]
  },
  {
   "cell_type": "code",
   "execution_count": 6,
   "metadata": {},
   "outputs": [
    {
     "name": "stdout",
     "output_type": "stream",
     "text": [
      "Requirement already satisfied: tweepy in /Users/vivekyadav/Applications/anaconda3/lib/python3.9/site-packages (3.8.0)\n",
      "Requirement already satisfied: requests-oauthlib>=0.7.0 in /Users/vivekyadav/Applications/anaconda3/lib/python3.9/site-packages (from tweepy) (1.3.1)\n",
      "Requirement already satisfied: requests>=2.11.1 in /Users/vivekyadav/Applications/anaconda3/lib/python3.9/site-packages (from tweepy) (2.27.1)\n",
      "Requirement already satisfied: PySocks>=1.5.7 in /Users/vivekyadav/Applications/anaconda3/lib/python3.9/site-packages (from tweepy) (1.7.1)\n",
      "Requirement already satisfied: six>=1.10.0 in /Users/vivekyadav/Applications/anaconda3/lib/python3.9/site-packages (from tweepy) (1.16.0)\n",
      "Requirement already satisfied: certifi>=2017.4.17 in /Users/vivekyadav/Applications/anaconda3/lib/python3.9/site-packages (from requests>=2.11.1->tweepy) (2021.10.8)\n",
      "Requirement already satisfied: charset-normalizer~=2.0.0 in /Users/vivekyadav/Applications/anaconda3/lib/python3.9/site-packages (from requests>=2.11.1->tweepy) (2.0.4)\n",
      "Requirement already satisfied: idna<4,>=2.5 in /Users/vivekyadav/Applications/anaconda3/lib/python3.9/site-packages (from requests>=2.11.1->tweepy) (3.3)\n",
      "Requirement already satisfied: urllib3<1.27,>=1.21.1 in /Users/vivekyadav/Applications/anaconda3/lib/python3.9/site-packages (from requests>=2.11.1->tweepy) (1.26.9)\n",
      "Requirement already satisfied: oauthlib>=3.0.0 in /Users/vivekyadav/Applications/anaconda3/lib/python3.9/site-packages (from requests-oauthlib>=0.7.0->tweepy) (3.2.1)\n",
      "Note: you may need to restart the kernel to use updated packages.\n"
     ]
    }
   ],
   "source": [
    "pip install tweepy"
   ]
  },
  {
   "cell_type": "code",
   "execution_count": 1,
   "metadata": {
    "scrolled": true
   },
   "outputs": [
    {
     "ename": "NameError",
     "evalue": "name 'tweepy' is not defined",
     "output_type": "error",
     "traceback": [
      "\u001b[0;31m---------------------------------------------------------------------------\u001b[0m",
      "\u001b[0;31mNameError\u001b[0m                                 Traceback (most recent call last)",
      "Input \u001b[0;32mIn [1]\u001b[0m, in \u001b[0;36m<cell line: 20>\u001b[0;34m()\u001b[0m\n\u001b[1;32m     16\u001b[0m consumer_secret \u001b[38;5;241m=\u001b[39m  \u001b[38;5;124m\"\u001b[39m\u001b[38;5;124mupjDhluFvJ1npN5OsYh4ugacAjte7KkGy8C6T4DZfoLC0\u001b[39m\u001b[38;5;124m\"\u001b[39m\n\u001b[1;32m     19\u001b[0m \u001b[38;5;66;03m### Python class for sending the messages\u001b[39;00m\n\u001b[0;32m---> 20\u001b[0m \u001b[38;5;28;01mclass\u001b[39;00m \u001b[38;5;21;01mKafkaListener\u001b[39;00m(\u001b[43mtweepy\u001b[49m\u001b[38;5;241m.\u001b[39mstream):\n\u001b[1;32m     21\u001b[0m     \u001b[38;5;28;01mdef\u001b[39;00m \u001b[38;5;21mon_data\u001b[39m(\u001b[38;5;28mself\u001b[39m, data):\n\u001b[1;32m     22\u001b[0m         producer\u001b[38;5;241m.\u001b[39msend(\u001b[38;5;124m\"\u001b[39m\u001b[38;5;124mtwitter\u001b[39m\u001b[38;5;124m\"\u001b[39m, data\u001b[38;5;241m.\u001b[39mencode(\u001b[38;5;124m'\u001b[39m\u001b[38;5;124mutf-8\u001b[39m\u001b[38;5;124m'\u001b[39m))\n",
      "\u001b[0;31mNameError\u001b[0m: name 'tweepy' is not defined"
     ]
    }
   ],
   "source": [
    "# Install following python modules if not available already\n",
    "#pip install kafka-python\n",
    "# pip install python-twitter\n",
    "# pip install tweepy\n",
    "\n",
    "#from tweepy.streaming import StreamListener\n",
    "from tweepy import OAuthHandler\n",
    "from tweepy import Stream\n",
    "from kafka import KafkaProducer, KafkaClient\n",
    "\n",
    "### Configuring Kafka\n",
    "\n",
    "access_token = \"y3W11S8XXhh9ffsGLTB62JkO7\"\n",
    "access_token_secret =  \"wjghxMjkguXBTOgyat5wDjvEuBBASiorA1FTqxlmuXXgmKzSl2\"\n",
    "consumer_key =  \"442467583-dBl60qcxhNT0zpzJzGYwY1YLr2zZUdhicsqrdvc6\"\n",
    "consumer_secret =  \"upjDhluFvJ1npN5OsYh4ugacAjte7KkGy8C6T4DZfoLC0\"\n",
    "\n",
    "\n",
    "### Python class for sending the messages\n",
    "class KafkaListener(tweepy.stream):\n",
    "    def on_data(self, data):\n",
    "        producer.send(\"twitter\", data.encode('utf-8'))\n",
    "        print (data)\n",
    "        return True\n",
    "    def on_error(self, status):\n",
    "        print (status)\n",
    "\n",
    "bootstrap_servers = ['3.211.253.82:9092']\n",
    "topicName = 'twitter'\n",
    "producer = KafkaProducer(bootstrap_servers = bootstrap_servers)\n",
    "producer = KafkaProducer()\n",
    "\n",
    "listener = KafkaListener()\n",
    "\n",
    "auth = OAuthHandler(consumer_key, consumer_secret)\n",
    "auth.set_access_token(access_token, access_token_secret)\n",
    "stream = Stream(auth, listener)\n",
    "stream.filter(track=\"news\")"
   ]
  },
  {
   "cell_type": "code",
   "execution_count": 3,
   "metadata": {},
   "outputs": [
    {
     "name": "stdout",
     "output_type": "stream",
     "text": [
      "Name: tweepy\n",
      "Version: 4.10.1\n",
      "Summary: Twitter library for Python\n",
      "Home-page: https://www.tweepy.org/\n",
      "Author: Joshua Roesslein\n",
      "Author-email: tweepy@googlegroups.com\n",
      "License: MIT\n",
      "Location: /Users/vivekyadav/Applications/anaconda3/lib/python3.9/site-packages\n",
      "Requires: oauthlib, requests-oauthlib, requests\n",
      "Required-by: \n",
      "Note: you may need to restart the kernel to use updated packages.\n"
     ]
    }
   ],
   "source": [
    "pip show tweepy"
   ]
  },
  {
   "cell_type": "code",
   "execution_count": 5,
   "metadata": {},
   "outputs": [
    {
     "name": "stdout",
     "output_type": "stream",
     "text": [
      "zsh:1: parse error near `>'\n",
      "Note: you may need to restart the kernel to use updated packages.\n"
     ]
    }
   ],
   "source": [
    "pip install tweepy==<version>"
   ]
  },
  {
   "cell_type": "code",
   "execution_count": 6,
   "metadata": {},
   "outputs": [
    {
     "name": "stdout",
     "output_type": "stream",
     "text": [
      "Collecting git+https://github.com/tweepy/tweepy.git\n",
      "  Cloning https://github.com/tweepy/tweepy.git to /private/var/folders/q_/5gk48xmn5kz7tsf0x4llgc8m0000gn/T/pip-req-build-ustuzlp8\n",
      "  Running command git clone -q https://github.com/tweepy/tweepy.git /private/var/folders/q_/5gk48xmn5kz7tsf0x4llgc8m0000gn/T/pip-req-build-ustuzlp8\n",
      "  xcrun: error: invalid active developer path (/Library/Developer/CommandLineTools), missing xcrun at: /Library/Developer/CommandLineTools/usr/bin/xcrun\n",
      "\u001b[33mWARNING: Discarding git+https://github.com/tweepy/tweepy.git. Command errored out with exit status 1: git clone -q https://github.com/tweepy/tweepy.git /private/var/folders/q_/5gk48xmn5kz7tsf0x4llgc8m0000gn/T/pip-req-build-ustuzlp8 Check the logs for full command output.\u001b[0m\n",
      "\u001b[31mERROR: Command errored out with exit status 1: git clone -q https://github.com/tweepy/tweepy.git /private/var/folders/q_/5gk48xmn5kz7tsf0x4llgc8m0000gn/T/pip-req-build-ustuzlp8 Check the logs for full command output.\u001b[0m\n",
      "Note: you may need to restart the kernel to use updated packages.\n"
     ]
    }
   ],
   "source": [
    "pip install git+https://github.com/tweepy/tweepy.git"
   ]
  },
  {
   "cell_type": "code",
   "execution_count": 2,
   "metadata": {},
   "outputs": [
    {
     "name": "stdout",
     "output_type": "stream",
     "text": [
      "Collecting tweepy==3.8.0\n",
      "  Downloading tweepy-3.8.0-py2.py3-none-any.whl (28 kB)\n",
      "Requirement already satisfied: PySocks>=1.5.7 in /Users/vivekyadav/Applications/anaconda3/lib/python3.9/site-packages (from tweepy==3.8.0) (1.7.1)\n",
      "Requirement already satisfied: six>=1.10.0 in /Users/vivekyadav/Applications/anaconda3/lib/python3.9/site-packages (from tweepy==3.8.0) (1.16.0)\n",
      "Requirement already satisfied: requests-oauthlib>=0.7.0 in /Users/vivekyadav/Applications/anaconda3/lib/python3.9/site-packages (from tweepy==3.8.0) (1.3.1)\n",
      "Requirement already satisfied: requests>=2.11.1 in /Users/vivekyadav/Applications/anaconda3/lib/python3.9/site-packages (from tweepy==3.8.0) (2.27.1)\n",
      "Requirement already satisfied: idna<4,>=2.5 in /Users/vivekyadav/Applications/anaconda3/lib/python3.9/site-packages (from requests>=2.11.1->tweepy==3.8.0) (3.3)\n",
      "Requirement already satisfied: charset-normalizer~=2.0.0 in /Users/vivekyadav/Applications/anaconda3/lib/python3.9/site-packages (from requests>=2.11.1->tweepy==3.8.0) (2.0.4)\n",
      "Requirement already satisfied: certifi>=2017.4.17 in /Users/vivekyadav/Applications/anaconda3/lib/python3.9/site-packages (from requests>=2.11.1->tweepy==3.8.0) (2021.10.8)\n",
      "Requirement already satisfied: urllib3<1.27,>=1.21.1 in /Users/vivekyadav/Applications/anaconda3/lib/python3.9/site-packages (from requests>=2.11.1->tweepy==3.8.0) (1.26.9)\n",
      "Requirement already satisfied: oauthlib>=3.0.0 in /Users/vivekyadav/Applications/anaconda3/lib/python3.9/site-packages (from requests-oauthlib>=0.7.0->tweepy==3.8.0) (3.2.1)\n",
      "Installing collected packages: tweepy\n",
      "  Attempting uninstall: tweepy\n",
      "    Found existing installation: tweepy 4.10.1\n",
      "    Uninstalling tweepy-4.10.1:\n",
      "      Successfully uninstalled tweepy-4.10.1\n",
      "Successfully installed tweepy-3.8.0\n",
      "Note: you may need to restart the kernel to use updated packages.\n"
     ]
    }
   ],
   "source": [
    "pip install tweepy==3.8.0\n"
   ]
  },
  {
   "cell_type": "code",
   "execution_count": 6,
   "metadata": {},
   "outputs": [
    {
     "ename": "NoBrokersAvailable",
     "evalue": "NoBrokersAvailable",
     "output_type": "error",
     "traceback": [
      "\u001b[0;31m---------------------------------------------------------------------------\u001b[0m",
      "\u001b[0;31mNoBrokersAvailable\u001b[0m                        Traceback (most recent call last)",
      "Input \u001b[0;32mIn [6]\u001b[0m, in \u001b[0;36m<cell line: 28>\u001b[0;34m()\u001b[0m\n\u001b[1;32m     26\u001b[0m topicName \u001b[38;5;241m=\u001b[39m \u001b[38;5;124m'\u001b[39m\u001b[38;5;124mtwitter\u001b[39m\u001b[38;5;124m'\u001b[39m\n\u001b[1;32m     27\u001b[0m producer \u001b[38;5;241m=\u001b[39m KafkaProducer(bootstrap_servers \u001b[38;5;241m=\u001b[39m bootstrap_servers)\n\u001b[0;32m---> 28\u001b[0m producer \u001b[38;5;241m=\u001b[39m \u001b[43mKafkaProducer\u001b[49m\u001b[43m(\u001b[49m\u001b[43m)\u001b[49m\n\u001b[1;32m     30\u001b[0m listener \u001b[38;5;241m=\u001b[39m KafkaListener()\n\u001b[1;32m     32\u001b[0m auth \u001b[38;5;241m=\u001b[39m tweepy\u001b[38;5;241m.\u001b[39mOAuthHandler(consumer_key, consumer_secret)\n",
      "File \u001b[0;32m~/Applications/anaconda3/lib/python3.9/site-packages/kafka/producer/kafka.py:381\u001b[0m, in \u001b[0;36mKafkaProducer.__init__\u001b[0;34m(self, **configs)\u001b[0m\n\u001b[1;32m    378\u001b[0m reporters \u001b[38;5;241m=\u001b[39m [reporter() \u001b[38;5;28;01mfor\u001b[39;00m reporter \u001b[38;5;129;01min\u001b[39;00m \u001b[38;5;28mself\u001b[39m\u001b[38;5;241m.\u001b[39mconfig[\u001b[38;5;124m'\u001b[39m\u001b[38;5;124mmetric_reporters\u001b[39m\u001b[38;5;124m'\u001b[39m]]\n\u001b[1;32m    379\u001b[0m \u001b[38;5;28mself\u001b[39m\u001b[38;5;241m.\u001b[39m_metrics \u001b[38;5;241m=\u001b[39m Metrics(metric_config, reporters)\n\u001b[0;32m--> 381\u001b[0m client \u001b[38;5;241m=\u001b[39m \u001b[43mKafkaClient\u001b[49m\u001b[43m(\u001b[49m\u001b[43mmetrics\u001b[49m\u001b[38;5;241;43m=\u001b[39;49m\u001b[38;5;28;43mself\u001b[39;49m\u001b[38;5;241;43m.\u001b[39;49m\u001b[43m_metrics\u001b[49m\u001b[43m,\u001b[49m\u001b[43m \u001b[49m\u001b[43mmetric_group_prefix\u001b[49m\u001b[38;5;241;43m=\u001b[39;49m\u001b[38;5;124;43m'\u001b[39;49m\u001b[38;5;124;43mproducer\u001b[39;49m\u001b[38;5;124;43m'\u001b[39;49m\u001b[43m,\u001b[49m\n\u001b[1;32m    382\u001b[0m \u001b[43m                     \u001b[49m\u001b[43mwakeup_timeout_ms\u001b[49m\u001b[38;5;241;43m=\u001b[39;49m\u001b[38;5;28;43mself\u001b[39;49m\u001b[38;5;241;43m.\u001b[39;49m\u001b[43mconfig\u001b[49m\u001b[43m[\u001b[49m\u001b[38;5;124;43m'\u001b[39;49m\u001b[38;5;124;43mmax_block_ms\u001b[39;49m\u001b[38;5;124;43m'\u001b[39;49m\u001b[43m]\u001b[49m\u001b[43m,\u001b[49m\n\u001b[1;32m    383\u001b[0m \u001b[43m                     \u001b[49m\u001b[38;5;241;43m*\u001b[39;49m\u001b[38;5;241;43m*\u001b[39;49m\u001b[38;5;28;43mself\u001b[39;49m\u001b[38;5;241;43m.\u001b[39;49m\u001b[43mconfig\u001b[49m\u001b[43m)\u001b[49m\n\u001b[1;32m    385\u001b[0m \u001b[38;5;66;03m# Get auto-discovered version from client if necessary\u001b[39;00m\n\u001b[1;32m    386\u001b[0m \u001b[38;5;28;01mif\u001b[39;00m \u001b[38;5;28mself\u001b[39m\u001b[38;5;241m.\u001b[39mconfig[\u001b[38;5;124m'\u001b[39m\u001b[38;5;124mapi_version\u001b[39m\u001b[38;5;124m'\u001b[39m] \u001b[38;5;129;01mis\u001b[39;00m \u001b[38;5;28;01mNone\u001b[39;00m:\n",
      "File \u001b[0;32m~/Applications/anaconda3/lib/python3.9/site-packages/kafka/client_async.py:244\u001b[0m, in \u001b[0;36mKafkaClient.__init__\u001b[0;34m(self, **configs)\u001b[0m\n\u001b[1;32m    242\u001b[0m \u001b[38;5;28;01mif\u001b[39;00m \u001b[38;5;28mself\u001b[39m\u001b[38;5;241m.\u001b[39mconfig[\u001b[38;5;124m'\u001b[39m\u001b[38;5;124mapi_version\u001b[39m\u001b[38;5;124m'\u001b[39m] \u001b[38;5;129;01mis\u001b[39;00m \u001b[38;5;28;01mNone\u001b[39;00m:\n\u001b[1;32m    243\u001b[0m     check_timeout \u001b[38;5;241m=\u001b[39m \u001b[38;5;28mself\u001b[39m\u001b[38;5;241m.\u001b[39mconfig[\u001b[38;5;124m'\u001b[39m\u001b[38;5;124mapi_version_auto_timeout_ms\u001b[39m\u001b[38;5;124m'\u001b[39m] \u001b[38;5;241m/\u001b[39m \u001b[38;5;241m1000\u001b[39m\n\u001b[0;32m--> 244\u001b[0m     \u001b[38;5;28mself\u001b[39m\u001b[38;5;241m.\u001b[39mconfig[\u001b[38;5;124m'\u001b[39m\u001b[38;5;124mapi_version\u001b[39m\u001b[38;5;124m'\u001b[39m] \u001b[38;5;241m=\u001b[39m \u001b[38;5;28;43mself\u001b[39;49m\u001b[38;5;241;43m.\u001b[39;49m\u001b[43mcheck_version\u001b[49m\u001b[43m(\u001b[49m\u001b[43mtimeout\u001b[49m\u001b[38;5;241;43m=\u001b[39;49m\u001b[43mcheck_timeout\u001b[49m\u001b[43m)\u001b[49m\n",
      "File \u001b[0;32m~/Applications/anaconda3/lib/python3.9/site-packages/kafka/client_async.py:900\u001b[0m, in \u001b[0;36mKafkaClient.check_version\u001b[0;34m(self, node_id, timeout, strict)\u001b[0m\n\u001b[1;32m    898\u001b[0m \u001b[38;5;28;01mif\u001b[39;00m try_node \u001b[38;5;129;01mis\u001b[39;00m \u001b[38;5;28;01mNone\u001b[39;00m:\n\u001b[1;32m    899\u001b[0m     \u001b[38;5;28mself\u001b[39m\u001b[38;5;241m.\u001b[39m_lock\u001b[38;5;241m.\u001b[39mrelease()\n\u001b[0;32m--> 900\u001b[0m     \u001b[38;5;28;01mraise\u001b[39;00m Errors\u001b[38;5;241m.\u001b[39mNoBrokersAvailable()\n\u001b[1;32m    901\u001b[0m \u001b[38;5;28mself\u001b[39m\u001b[38;5;241m.\u001b[39m_maybe_connect(try_node)\n\u001b[1;32m    902\u001b[0m conn \u001b[38;5;241m=\u001b[39m \u001b[38;5;28mself\u001b[39m\u001b[38;5;241m.\u001b[39m_conns[try_node]\n",
      "\u001b[0;31mNoBrokersAvailable\u001b[0m: NoBrokersAvailable"
     ]
    }
   ],
   "source": [
    "# Install following python modules if not available already\n",
    "# pip install kafka-python\n",
    "# pip install tweepy\n",
    "\n",
    "import tweepy\n",
    "from kafka import KafkaProducer, KafkaClient\n",
    "\n",
    "### Configuring Kafka\n",
    "\n",
    "\n",
    "access_token = \"442467583-dBl60qcxhNT0zpzJzGYwY1YLr2zZUdhicsqrdvc6\"\n",
    "access_token_secret =  \"upjDhluFvJ1npN5OsYh4ugacAjte7KkGy8C6T4DZfoLC0\"\n",
    "consumer_key =  \"y3W11S8XXhh9ffsGLTB62JkO7\"\n",
    "consumer_secret =  \"wjghxMjkguXBTOgyat5wDjvEuBBASiorA1FTqxlmuXXgmKzSl2\"\n",
    "\n",
    "### Python class for sending the messages\n",
    "class KafkaListener(tweepy.StreamListener):\n",
    "    def on_status(self, status):\n",
    "        producer.send(\"twitter\", status.text.encode('utf-8'))\n",
    "        print (status.text)\n",
    "        return True\n",
    "    def on_error(self, status):\n",
    "        print (status)\n",
    "\n",
    "bootstrap_servers = ['3.211.253.82:9092']\n",
    "topicName = 'twitter'\n",
    "producer = KafkaProducer(bootstrap_servers = bootstrap_servers)\n",
    "producer = KafkaProducer()\n",
    "\n",
    "listener = KafkaListener()\n",
    "\n",
    "auth = tweepy.OAuthHandler(consumer_key, consumer_secret)\n",
    "auth.set_access_token(access_token, access_token_secret)\n",
    "\n",
    "stream = tweepy.Stream(auth, listener)\n",
    "stream.filter(track=\"news\")\n"
   ]
  },
  {
   "cell_type": "code",
   "execution_count": null,
   "metadata": {},
   "outputs": [],
   "source": []
  }
 ],
 "metadata": {
  "kernelspec": {
   "display_name": "Python 3 (ipykernel)",
   "language": "python",
   "name": "python3"
  },
  "language_info": {
   "codemirror_mode": {
    "name": "ipython",
    "version": 3
   },
   "file_extension": ".py",
   "mimetype": "text/x-python",
   "name": "python",
   "nbconvert_exporter": "python",
   "pygments_lexer": "ipython3",
   "version": "3.9.12"
  }
 },
 "nbformat": 4,
 "nbformat_minor": 4
}
